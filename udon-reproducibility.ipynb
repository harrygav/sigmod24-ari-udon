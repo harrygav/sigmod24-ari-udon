{
 "cells": [
  {
   "cell_type": "code",
   "execution_count": null,
   "id": "5e8a103c-96d3-41aa-a9e1-ddb8fed0804e",
   "metadata": {},
   "outputs": [],
   "source": [
    "worfklows=['w1','w2','w3','w4','w5']\n",
    "times=[1800,980,290,0,24]"
   ]
  }
 ],
 "metadata": {
  "kernelspec": {
   "display_name": "Python 3 (ipykernel)",
   "language": "python",
   "name": "python3"
  },
  "language_info": {
   "codemirror_mode": {
    "name": "ipython",
    "version": 3
   },
   "file_extension": ".py",
   "mimetype": "text/x-python",
   "name": "python",
   "nbconvert_exporter": "python",
   "pygments_lexer": "ipython3",
   "version": "3.10.13"
  }
 },
 "nbformat": 4,
 "nbformat_minor": 5
}
